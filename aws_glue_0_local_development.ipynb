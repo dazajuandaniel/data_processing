{
 "cells": [
  {
   "cell_type": "markdown",
   "metadata": {},
   "source": [
    "# Parsing XML files in PySpark"
   ]
  },
  {
   "cell_type": "markdown",
   "metadata": {},
   "source": [
    "Sample file used to showcase the usage of the Databricks library.\n",
    "\n",
    "**Pre-requisites**\n",
    "1. The Jupyter AWS Glue Container as shown on [AWS](https://aws.amazon.com/blogs/big-data/developing-aws-glue-etl-jobs-locally-using-a-container/)\n",
    "2. The [Databricks library](https://github.com/databricks/spark-xml) - Note that in the container, version **0.5** must be used\n",
    "3. To add the `jar` files, run the following from a terminal in the Container's Jupyter environment:\n",
    "    * `wget https://repo1.maven.org/maven2/com/databricks/spark-xml_2.11/0.5.0/spark-xml_2.11-0.5.0.jar`\n",
    "    * `cp spark-xml_2.11-0.5.0.jar $SPARK_HOME/jars/`\n",
    "4. Sample data was taken from [this website](https://www.service-architecture.com/articles/object-oriented-databases/xml-file-for-complex-data.html)"
   ]
  },
  {
   "cell_type": "markdown",
   "metadata": {},
   "source": [
    "### Import libraries"
   ]
  },
  {
   "cell_type": "code",
   "execution_count": 1,
   "metadata": {},
   "outputs": [
    {
     "name": "stdout",
     "output_type": "stream",
     "text": [
      "Starting Spark application\n"
     ]
    },
    {
     "data": {
      "text/html": [
       "<table>\n",
       "<tr><th>ID</th><th>YARN Application ID</th><th>Kind</th><th>State</th><th>Spark UI</th><th>Driver log</th><th>Current session?</th></tr><tr><td>3</td><td>None</td><td>pyspark</td><td>idle</td><td></td><td></td><td>✔</td></tr></table>"
      ],
      "text/plain": [
       "<IPython.core.display.HTML object>"
      ]
     },
     "metadata": {},
     "output_type": "display_data"
    },
    {
     "data": {
      "application/vnd.jupyter.widget-view+json": {
       "model_id": "",
       "version_major": 2,
       "version_minor": 0
      },
      "text/plain": [
       "FloatProgress(value=0.0, bar_style='info', description='Progress:', layout=Layout(height='25px', width='50%'),…"
      ]
     },
     "metadata": {},
     "output_type": "display_data"
    },
    {
     "name": "stdout",
     "output_type": "stream",
     "text": [
      "SparkSession available as 'spark'.\n"
     ]
    },
    {
     "data": {
      "application/vnd.jupyter.widget-view+json": {
       "model_id": "",
       "version_major": 2,
       "version_minor": 0
      },
      "text/plain": [
       "FloatProgress(value=0.0, bar_style='info', description='Progress:', layout=Layout(height='25px', width='50%'),…"
      ]
     },
     "metadata": {},
     "output_type": "display_data"
    }
   ],
   "source": [
    "import pyspark\n",
    "from pyspark.sql import SparkSession\n",
    "from pyspark.sql import functions as f\n",
    "from pyspark.sql.dataframe import DataFrame\n",
    "import os"
   ]
  },
  {
   "cell_type": "markdown",
   "metadata": {},
   "source": [
    "### Constant and Paremeters"
   ]
  },
  {
   "cell_type": "code",
   "execution_count": 2,
   "metadata": {},
   "outputs": [
    {
     "data": {
      "application/vnd.jupyter.widget-view+json": {
       "model_id": "",
       "version_major": 2,
       "version_minor": 0
      },
      "text/plain": [
       "FloatProgress(value=0.0, bar_style='info', description='Progress:', layout=Layout(height='25px', width='50%'),…"
      ]
     },
     "metadata": {},
     "output_type": "display_data"
    }
   ],
   "source": [
    "FILE_PATH = '/home/jupyter/jupyter_default_dir/complex_file.xml'\n",
    "FORMAT = \"com.databricks.spark.xml\""
   ]
  },
  {
   "cell_type": "markdown",
   "metadata": {},
   "source": [
    "### Support Functions"
   ]
  },
  {
   "cell_type": "code",
   "execution_count": 3,
   "metadata": {},
   "outputs": [
    {
     "data": {
      "application/vnd.jupyter.widget-view+json": {
       "model_id": "",
       "version_major": 2,
       "version_minor": 0
      },
      "text/plain": [
       "FloatProgress(value=0.0, bar_style='info', description='Progress:', layout=Layout(height='25px', width='50%'),…"
      ]
     },
     "metadata": {},
     "output_type": "display_data"
    }
   ],
   "source": [
    "def select_struct(self,struct_col_name):\n",
    "    \"\"\"\n",
    "    Support Function that given a struct column, explodes it in place.\n",
    "    Given that the data type is a struct, we can't run explode in it.\n",
    "    To circumvent this, we need to select the struct to have the columns in place\n",
    "    Args:\n",
    "        output_col_name(str): Desired name for the output column\n",
    "        struct_col_name(str): The struct column to be exploded\n",
    "    Returns:\n",
    "        dataframe(Dataframe): The dataframe with the added columns\n",
    "    \"\"\"\n",
    "    # Select the columns that are not to be exploded\n",
    "    cols = [x for x in self.columns if x != struct_col_name]\n",
    "    \n",
    "    # Check if array is greater than 1\n",
    "    if len(cols)<1:\n",
    "        return self.select(f\"{struct_col_name}.*\")\n",
    "    else:\n",
    "        return self.select(cols+[f\"{struct_col_name}.*\"])\n",
    "\n",
    "setattr(DataFrame,'select_struct',select_struct)"
   ]
  },
  {
   "cell_type": "markdown",
   "metadata": {},
   "source": [
    "### Spark Session"
   ]
  },
  {
   "cell_type": "code",
   "execution_count": 4,
   "metadata": {},
   "outputs": [
    {
     "data": {
      "application/vnd.jupyter.widget-view+json": {
       "model_id": "",
       "version_major": 2,
       "version_minor": 0
      },
      "text/plain": [
       "FloatProgress(value=0.0, bar_style='info', description='Progress:', layout=Layout(height='25px', width='50%'),…"
      ]
     },
     "metadata": {},
     "output_type": "display_data"
    }
   ],
   "source": [
    "spark = SparkSession.builder.appName(\"XML - Parser\").getOrCreate()"
   ]
  },
  {
   "cell_type": "markdown",
   "metadata": {},
   "source": [
    "### Read in the Data"
   ]
  },
  {
   "cell_type": "code",
   "execution_count": 5,
   "metadata": {},
   "outputs": [
    {
     "data": {
      "application/vnd.jupyter.widget-view+json": {
       "model_id": "",
       "version_major": 2,
       "version_minor": 0
      },
      "text/plain": [
       "FloatProgress(value=0.0, bar_style='info', description='Progress:', layout=Layout(height='25px', width='50%'),…"
      ]
     },
     "metadata": {},
     "output_type": "display_data"
    },
    {
     "name": "stdout",
     "output_type": "stream",
     "text": [
      "root\n",
      " |-- product: struct (nullable = true)\n",
      " |    |-- _description: string (nullable = true)\n",
      " |    |-- _product_image: string (nullable = true)\n",
      " |    |-- catalog_item: array (nullable = true)\n",
      " |    |    |-- element: struct (containsNull = true)\n",
      " |    |    |    |-- _gender: string (nullable = true)\n",
      " |    |    |    |-- item_number: string (nullable = true)\n",
      " |    |    |    |-- price: double (nullable = true)\n",
      " |    |    |    |-- size: array (nullable = true)\n",
      " |    |    |    |    |-- element: struct (containsNull = true)\n",
      " |    |    |    |    |    |-- _description: string (nullable = true)\n",
      " |    |    |    |    |    |-- color_swatch: array (nullable = true)\n",
      " |    |    |    |    |    |    |-- element: struct (containsNull = true)\n",
      " |    |    |    |    |    |    |    |-- _VALUE: string (nullable = true)\n",
      " |    |    |    |    |    |    |    |-- _image: string (nullable = true)"
     ]
    }
   ],
   "source": [
    "df = spark.read.format(FORMAT).option(\"rowTag\",\"catalog\").load(FILE_PATH)\n",
    "df.printSchema()"
   ]
  },
  {
   "cell_type": "markdown",
   "metadata": {},
   "source": [
    "Top level data is of type `struct`"
   ]
  },
  {
   "cell_type": "code",
   "execution_count": 6,
   "metadata": {
    "scrolled": true
   },
   "outputs": [
    {
     "data": {
      "application/vnd.jupyter.widget-view+json": {
       "model_id": "",
       "version_major": 2,
       "version_minor": 0
      },
      "text/plain": [
       "FloatProgress(value=0.0, bar_style='info', description='Progress:', layout=Layout(height='25px', width='50%'),…"
      ]
     },
     "metadata": {},
     "output_type": "display_data"
    }
   ],
   "source": [
    "df_flat = df.select_struct(\"product\")\n",
    "df_flat = df_flat.withColumnRenamed(\"_description\",\"_product_description\")"
   ]
  },
  {
   "cell_type": "code",
   "execution_count": 7,
   "metadata": {},
   "outputs": [
    {
     "data": {
      "application/vnd.jupyter.widget-view+json": {
       "model_id": "",
       "version_major": 2,
       "version_minor": 0
      },
      "text/plain": [
       "FloatProgress(value=0.0, bar_style='info', description='Progress:', layout=Layout(height='25px', width='50%'),…"
      ]
     },
     "metadata": {},
     "output_type": "display_data"
    },
    {
     "name": "stdout",
     "output_type": "stream",
     "text": [
      "root\n",
      " |-- _product_description: string (nullable = true)\n",
      " |-- _product_image: string (nullable = true)\n",
      " |-- catalog_item_exploded: struct (nullable = true)\n",
      " |    |-- _gender: string (nullable = true)\n",
      " |    |-- item_number: string (nullable = true)\n",
      " |    |-- price: double (nullable = true)\n",
      " |    |-- size: array (nullable = true)\n",
      " |    |    |-- element: struct (containsNull = true)\n",
      " |    |    |    |-- _description: string (nullable = true)\n",
      " |    |    |    |-- color_swatch: array (nullable = true)\n",
      " |    |    |    |    |-- element: struct (containsNull = true)\n",
      " |    |    |    |    |    |-- _VALUE: string (nullable = true)\n",
      " |    |    |    |    |    |-- _image: string (nullable = true)"
     ]
    }
   ],
   "source": [
    "df_flat_cat = df_flat.withColumn(\"catalog_item_exploded\",f.explode(\"catalog_item\")).drop(\"catalog_item\")\n",
    "df_flat_cat.printSchema()"
   ]
  },
  {
   "cell_type": "code",
   "execution_count": 8,
   "metadata": {},
   "outputs": [
    {
     "data": {
      "application/vnd.jupyter.widget-view+json": {
       "model_id": "",
       "version_major": 2,
       "version_minor": 0
      },
      "text/plain": [
       "FloatProgress(value=0.0, bar_style='info', description='Progress:', layout=Layout(height='25px', width='50%'),…"
      ]
     },
     "metadata": {},
     "output_type": "display_data"
    },
    {
     "name": "stdout",
     "output_type": "stream",
     "text": [
      "root\n",
      " |-- _product_description: string (nullable = true)\n",
      " |-- _product_image: string (nullable = true)\n",
      " |-- _gender: string (nullable = true)\n",
      " |-- item_number: string (nullable = true)\n",
      " |-- price: double (nullable = true)\n",
      " |-- size: array (nullable = true)\n",
      " |    |-- element: struct (containsNull = true)\n",
      " |    |    |-- _description: string (nullable = true)\n",
      " |    |    |-- color_swatch: array (nullable = true)\n",
      " |    |    |    |-- element: struct (containsNull = true)\n",
      " |    |    |    |    |-- _VALUE: string (nullable = true)\n",
      " |    |    |    |    |-- _image: string (nullable = true)"
     ]
    }
   ],
   "source": [
    "df_flat_cat_items = df_flat_cat.select_struct(\"catalog_item_exploded\")\n",
    "df_flat_cat_items.printSchema()"
   ]
  },
  {
   "cell_type": "code",
   "execution_count": 9,
   "metadata": {},
   "outputs": [
    {
     "data": {
      "application/vnd.jupyter.widget-view+json": {
       "model_id": "",
       "version_major": 2,
       "version_minor": 0
      },
      "text/plain": [
       "FloatProgress(value=0.0, bar_style='info', description='Progress:', layout=Layout(height='25px', width='50%'),…"
      ]
     },
     "metadata": {},
     "output_type": "display_data"
    },
    {
     "name": "stdout",
     "output_type": "stream",
     "text": [
      "root\n",
      " |-- _product_description: string (nullable = true)\n",
      " |-- _product_image: string (nullable = true)\n",
      " |-- _gender: string (nullable = true)\n",
      " |-- item_number: string (nullable = true)\n",
      " |-- price: double (nullable = true)\n",
      " |-- size_exploded: struct (nullable = true)\n",
      " |    |-- _description: string (nullable = true)\n",
      " |    |-- color_swatch: array (nullable = true)\n",
      " |    |    |-- element: struct (containsNull = true)\n",
      " |    |    |    |-- _VALUE: string (nullable = true)\n",
      " |    |    |    |-- _image: string (nullable = true)"
     ]
    }
   ],
   "source": [
    "df_flat_size = df_flat_cat_items.withColumn(\"size_exploded\",f.explode(\"size\")).drop(\"size\")\n",
    "df_flat_size.printSchema()"
   ]
  },
  {
   "cell_type": "code",
   "execution_count": 10,
   "metadata": {},
   "outputs": [
    {
     "data": {
      "application/vnd.jupyter.widget-view+json": {
       "model_id": "",
       "version_major": 2,
       "version_minor": 0
      },
      "text/plain": [
       "FloatProgress(value=0.0, bar_style='info', description='Progress:', layout=Layout(height='25px', width='50%'),…"
      ]
     },
     "metadata": {},
     "output_type": "display_data"
    },
    {
     "name": "stdout",
     "output_type": "stream",
     "text": [
      "root\n",
      " |-- _product_description: string (nullable = true)\n",
      " |-- _product_image: string (nullable = true)\n",
      " |-- _gender: string (nullable = true)\n",
      " |-- item_number: string (nullable = true)\n",
      " |-- price: double (nullable = true)\n",
      " |-- _item_description: string (nullable = true)\n",
      " |-- color_swatch: array (nullable = true)\n",
      " |    |-- element: struct (containsNull = true)\n",
      " |    |    |-- _VALUE: string (nullable = true)\n",
      " |    |    |-- _image: string (nullable = true)"
     ]
    }
   ],
   "source": [
    "df_flat_size_items = df_flat_size.select_struct(\"size_exploded\")\n",
    "df_flat_size_items = df_flat_size_items.withColumnRenamed(\"_description\",\"_item_description\")\n",
    "df_flat_size_items.printSchema()"
   ]
  },
  {
   "cell_type": "code",
   "execution_count": 11,
   "metadata": {},
   "outputs": [
    {
     "data": {
      "application/vnd.jupyter.widget-view+json": {
       "model_id": "",
       "version_major": 2,
       "version_minor": 0
      },
      "text/plain": [
       "FloatProgress(value=0.0, bar_style='info', description='Progress:', layout=Layout(height='25px', width='50%'),…"
      ]
     },
     "metadata": {},
     "output_type": "display_data"
    },
    {
     "name": "stdout",
     "output_type": "stream",
     "text": [
      "root\n",
      " |-- _product_description: string (nullable = true)\n",
      " |-- _product_image: string (nullable = true)\n",
      " |-- _gender: string (nullable = true)\n",
      " |-- item_number: string (nullable = true)\n",
      " |-- price: double (nullable = true)\n",
      " |-- _item_description: string (nullable = true)\n",
      " |-- color_swatch_exploded: struct (nullable = true)\n",
      " |    |-- _VALUE: string (nullable = true)\n",
      " |    |-- _image: string (nullable = true)"
     ]
    }
   ],
   "source": [
    "df_flat_color = df_flat_size_items.withColumn(\"color_swatch_exploded\",f.explode(\"color_swatch\")).drop(\"color_swatch\")\n",
    "df_flat_color.printSchema()"
   ]
  },
  {
   "cell_type": "code",
   "execution_count": 12,
   "metadata": {},
   "outputs": [
    {
     "data": {
      "application/vnd.jupyter.widget-view+json": {
       "model_id": "",
       "version_major": 2,
       "version_minor": 0
      },
      "text/plain": [
       "FloatProgress(value=0.0, bar_style='info', description='Progress:', layout=Layout(height='25px', width='50%'),…"
      ]
     },
     "metadata": {},
     "output_type": "display_data"
    },
    {
     "name": "stdout",
     "output_type": "stream",
     "text": [
      "root\n",
      " |-- _product_description: string (nullable = true)\n",
      " |-- _product_image: string (nullable = true)\n",
      " |-- _gender: string (nullable = true)\n",
      " |-- item_number: string (nullable = true)\n",
      " |-- price: double (nullable = true)\n",
      " |-- _item_description: string (nullable = true)\n",
      " |-- _VALUE: string (nullable = true)\n",
      " |-- _image: string (nullable = true)"
     ]
    }
   ],
   "source": [
    "df_flat_color_items = df_flat_color.select_struct(\"color_swatch_exploded\")\n",
    "df_flat_color_items.printSchema()"
   ]
  },
  {
   "cell_type": "code",
   "execution_count": 13,
   "metadata": {},
   "outputs": [
    {
     "data": {
      "application/vnd.jupyter.widget-view+json": {
       "model_id": "",
       "version_major": 2,
       "version_minor": 0
      },
      "text/plain": [
       "FloatProgress(value=0.0, bar_style='info', description='Progress:', layout=Layout(height='25px', width='50%'),…"
      ]
     },
     "metadata": {},
     "output_type": "display_data"
    },
    {
     "name": "stdout",
     "output_type": "stream",
     "text": [
      "+--------------------+--------------+-------+-----------+-----+-----------------+--------+---------------------+\n",
      "|_product_description|_product_image|_gender|item_number|price|_item_description|_VALUE  |_image               |\n",
      "+--------------------+--------------+-------+-----------+-----+-----------------+--------+---------------------+\n",
      "|Cardigan Sweater    |cardigan.jpg  |Men's  |QWZ5671    |39.95|Medium           |Red     |red_cardigan.jpg     |\n",
      "|Cardigan Sweater    |cardigan.jpg  |Men's  |QWZ5671    |39.95|Medium           |Burgundy|burgundy_cardigan.jpg|\n",
      "|Cardigan Sweater    |cardigan.jpg  |Men's  |QWZ5671    |39.95|Large            |Red     |red_cardigan.jpg     |\n",
      "|Cardigan Sweater    |cardigan.jpg  |Men's  |QWZ5671    |39.95|Large            |Burgundy|burgundy_cardigan.jpg|\n",
      "|Cardigan Sweater    |cardigan.jpg  |Women's|RRX9856    |42.5 |Small            |Red     |red_cardigan.jpg     |\n",
      "|Cardigan Sweater    |cardigan.jpg  |Women's|RRX9856    |42.5 |Small            |Navy    |navy_cardigan.jpg    |\n",
      "|Cardigan Sweater    |cardigan.jpg  |Women's|RRX9856    |42.5 |Small            |Burgundy|burgundy_cardigan.jpg|\n",
      "|Cardigan Sweater    |cardigan.jpg  |Women's|RRX9856    |42.5 |Medium           |Red     |red_cardigan.jpg     |\n",
      "|Cardigan Sweater    |cardigan.jpg  |Women's|RRX9856    |42.5 |Medium           |Navy    |navy_cardigan.jpg    |\n",
      "|Cardigan Sweater    |cardigan.jpg  |Women's|RRX9856    |42.5 |Medium           |Burgundy|burgundy_cardigan.jpg|\n",
      "|Cardigan Sweater    |cardigan.jpg  |Women's|RRX9856    |42.5 |Medium           |Black   |black_cardigan.jpg   |\n",
      "|Cardigan Sweater    |cardigan.jpg  |Women's|RRX9856    |42.5 |Large            |Navy    |navy_cardigan.jpg    |\n",
      "|Cardigan Sweater    |cardigan.jpg  |Women's|RRX9856    |42.5 |Large            |Black   |black_cardigan.jpg   |\n",
      "|Cardigan Sweater    |cardigan.jpg  |Women's|RRX9856    |42.5 |Extra Large      |Burgundy|burgundy_cardigan.jpg|\n",
      "|Cardigan Sweater    |cardigan.jpg  |Women's|RRX9856    |42.5 |Extra Large      |Black   |black_cardigan.jpg   |\n",
      "+--------------------+--------------+-------+-----------+-----+-----------------+--------+---------------------+"
     ]
    }
   ],
   "source": [
    "df_flat_color_items.show(truncate=False)"
   ]
  }
 ],
 "metadata": {
  "kernelspec": {
   "display_name": "PySpark",
   "language": "",
   "name": "pysparkkernel"
  },
  "language_info": {
   "codemirror_mode": {
    "name": "python",
    "version": 3
   },
   "mimetype": "text/x-python",
   "name": "pyspark",
   "pygments_lexer": "python3"
  }
 },
 "nbformat": 4,
 "nbformat_minor": 4
}
